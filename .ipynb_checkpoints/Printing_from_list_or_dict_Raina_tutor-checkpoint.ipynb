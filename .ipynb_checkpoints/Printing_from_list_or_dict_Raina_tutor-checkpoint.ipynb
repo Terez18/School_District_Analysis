{
 "cells": [
  {
   "cell_type": "code",
   "execution_count": 1,
   "metadata": {},
   "outputs": [],
   "source": [
    "# A dictionary of high schools and the type of school.\n",
    "high_school_types = [{\"High School\": \"Griffin\", \"Type\":\"District\"},\n",
    "                    {\"High School\": \"Figueroa\", \"Type\": \"District\"},\n",
    "                    {\"High School\": \"Wilson\", \"Type\": \"Charter\"},\n",
    "                    {\"High School\": \"Wright\", \"Type\": \"Charter\"}]"
   ]
  },
  {
   "cell_type": "code",
   "execution_count": 2,
   "metadata": {},
   "outputs": [
    {
     "name": "stdout",
     "output_type": "stream",
     "text": [
      "{'High School': 'Griffin', 'Type': 'District'}\n",
      "{'High School': 'Figueroa', 'Type': 'District'}\n",
      "{'High School': 'Wilson', 'Type': 'Charter'}\n",
      "{'High School': 'Wright', 'Type': 'Charter'}\n"
     ]
    }
   ],
   "source": [
    "for school in high_school_types:\n",
    "    print(school)"
   ]
  },
  {
   "cell_type": "code",
   "execution_count": 7,
   "metadata": {},
   "outputs": [
    {
     "name": "stdout",
     "output_type": "stream",
     "text": [
      "Griffin\n",
      "Figueroa\n",
      "Wilson\n",
      "Wright\n",
      "District\n",
      "District\n",
      "Charter\n",
      "Charter\n"
     ]
    }
   ],
   "source": [
    "for school in high_school_types:\n",
    "    print(school[\"High School\"])\n",
    "for school in high_school_types:\n",
    "    print(school[\"Type\"])\n",
    "     "
   ]
  },
  {
   "cell_type": "code",
   "execution_count": 6,
   "metadata": {},
   "outputs": [
    {
     "name": "stdout",
     "output_type": "stream",
     "text": [
      "dict_keys(['High School', 'Type'])\n",
      "dict_keys(['High School', 'Type'])\n",
      "dict_keys(['High School', 'Type'])\n",
      "dict_keys(['High School', 'Type'])\n"
     ]
    }
   ],
   "source": [
    "for school in high_school_types:\n",
    "        print(school.keys()) "
   ]
  },
  {
   "cell_type": "code",
   "execution_count": 12,
   "metadata": {},
   "outputs": [
    {
     "name": "stdout",
     "output_type": "stream",
     "text": [
      "High School\n",
      "High School\n",
      "High School\n",
      "High School\n"
     ]
    }
   ],
   "source": [
    "for school in high_school_types:\n",
    "        print(list(school.keys())[0])"
   ]
  },
  {
   "cell_type": "code",
   "execution_count": 8,
   "metadata": {},
   "outputs": [
    {
     "name": "stdout",
     "output_type": "stream",
     "text": [
      "dict_values(['Griffin', 'District'])\n",
      "dict_values(['Figueroa', 'District'])\n",
      "dict_values(['Wilson', 'Charter'])\n",
      "dict_values(['Wright', 'Charter'])\n"
     ]
    }
   ],
   "source": [
    "for school in high_school_types:\n",
    "        print(school.values()) "
   ]
  },
  {
   "cell_type": "code",
   "execution_count": 13,
   "metadata": {},
   "outputs": [
    {
     "name": "stdout",
     "output_type": "stream",
     "text": [
      "High School\n"
     ]
    }
   ],
   "source": [
    "print(list(high_school_types[0].keys())[0])"
   ]
  }
 ],
 "metadata": {
  "kernelspec": {
   "display_name": "PythonData",
   "language": "python",
   "name": "pythondata"
  },
  "language_info": {
   "codemirror_mode": {
    "name": "ipython",
    "version": 3
   },
   "file_extension": ".py",
   "mimetype": "text/x-python",
   "name": "python",
   "nbconvert_exporter": "python",
   "pygments_lexer": "ipython3",
   "version": "3.7.9"
  }
 },
 "nbformat": 4,
 "nbformat_minor": 4
}
